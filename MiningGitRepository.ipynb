{
 "cells": [
  {
   "cell_type": "markdown",
   "metadata": {},
   "source": [
    "# GIT Basics\n",
    "\n",
    "## Lets start GITing !!!\n",
    "\n",
    "Git is a version control software again developed by Linus Torvalds with a motivation to track humongous projects like the Linux Kernel. In the words of Linus, **GIT is a stupid content tracker**.\n",
    "\n",
    "There are many resources for delving into Git; its fundamentals, implementation, philosophy.\n",
    "\n",
    "References:\n",
    "\n",
    "[The Git Parable](http://tom.preston-werner.com/2009/05/19/the-git-parable.html) by Tom Preston Werner introduces succintly the philosophy of Git, parallels and differences with contemporary version control systems.\n",
    "\n",
    "[Pro Git](https://git-scm.com/book/en/v2) by Scott Chacon and Ben Straub \n",
    "\n",
    "[Git Man page](http://man7.org/linux/man-pages/man1/git.1.html) The [Linux Man Page project](https://www.kernel.org/doc/man-pages/) documents the Linux kernel itself. is for a seasoned linux user comfortable with self-exploration and an ability to read the documentation. This [HowTo](https://www.maketecheasier.com/read-linux-man-page/) helps you decode man pages.\n",
    "\n",
    "---"
   ]
  },
  {
   "cell_type": "markdown",
   "metadata": {},
   "source": [
    "# Git Basics using Jupyter Notebook\n",
    "\n",
    "## Dynamic Computing\n",
    "\n",
    "Primarily using the Pro Git as a reference, let us explore the basics of Git. In the earlier attempts to document, we have used tools like LibreOffice, simple static markdown using Atom Editor's gitting functionality, to explore `Git`. However, we will see in the coming cells that Jupyter offers more freedom when it comes to documenting a programming/computing tool like `Git`. Due to the dynamic computing nature of Jupter notebook it is easy to have an analysis **up-to-date** with dynamic, time changing data.\n",
    "\n",
    "## Linux Git repository\n",
    "\n",
    "Since Git deals with versioning content, let us take for concrete purposes, the Linux Git repository itself to understand Gitting.\n",
    "\n",
    "The linux Project is a multi developer, multi user, multi-national, multi documenter open source project with a development history of more than 20 years. The originator of Linux, Linus Torvalds, also developed Git to version control such a complex project as linux.\n",
    "\n",
    "Let us try to learn the basics of Git using the Linux Git repository itself as a case study :)\n",
    "\n",
    "We will mine the git related data of this repository in this notebook using the commonly used Git commands.\n",
    "\n",
    "## Executing terminal commands in jupyter notebook\n",
    "\n",
    "Exploring `git` involves executing git commands at the terminal. However to have a similar terminal like execution environment, Jupyter provides way to execute terminal commands in the notebook itself.\n",
    "\n",
    "Using `!`(spelled `BANG!`), one can [execute linux terminal commands within the notebook](https://support.anaconda.com/hc/en-us/articles/360023858254-Executing-Terminal-Commands-in-Jupyter-Notebooks). This is a useful feature if we want to get system related information or use other system tools to do computing.\n",
    "\n",
    "---"
   ]
  },
  {
   "cell_type": "markdown",
   "metadata": {},
   "source": [
    "# System information mining\n",
    "\n",
    "Before we explore the `git`, let us first explore some system related informtaion which is useful in the course. Some basic system related information of interest is:\n",
    "\n",
    "- current working directory : The root directory of the repository is given by `pwd` which **p**rints name of (current or) **w**orking **d**irectory.\n",
    "- listing the files in the directory : `ls` lists the files. Along with the option `-al` lists the hiddens contents also.\n",
    "- manuals for commands : `man <command>` prints the manual to the system command `<commnad>`.\n",
    "- limiting manual command output : `head`, `tail` are utility commands to limit the print output"
   ]
  },
  {
   "cell_type": "markdown",
   "metadata": {},
   "source": [
    "## Current working directory"
   ]
  },
  {
   "cell_type": "code",
   "execution_count": 1,
   "metadata": {},
   "outputs": [
    {
     "name": "stderr",
     "output_type": "stream",
     "text": [
      "'pwd' is not recognized as an internal or external command,\n",
      "operable program or batch file.\n"
     ]
    }
   ],
   "source": [
    "!pwd"
   ]
  },
  {
   "cell_type": "markdown",
   "metadata": {},
   "source": [
    "> **NOTE** To know about a specific Linux command which is executed in this `.ipynb` notebook execute `!man <command>`. For example `!man pwd`"
   ]
  },
  {
   "cell_type": "code",
   "execution_count": 40,
   "metadata": {},
   "outputs": [
    {
     "name": "stdout",
     "output_type": "stream",
     "text": [
      "PWD(1)                           User Commands                          PWD(1)\r\n",
      "\r\n",
      "N\bNA\bAM\bME\bE\r\n",
      "       pwd - print name of current/working directory\r\n",
      "\r\n",
      "S\bSY\bYN\bNO\bOP\bPS\bSI\bIS\bS\r\n",
      "       p\bpw\bwd\bd [_\bO_\bP_\bT_\bI_\bO_\bN]...\r\n",
      "\r\n",
      "D\bDE\bES\bSC\bCR\bRI\bIP\bPT\bTI\bIO\bON\bN\r\n",
      "       Print the full filename of the current working directory.\r\n",
      "\r\n",
      "       -\b-L\bL, -\b--\b-l\blo\bog\bgi\bic\bca\bal\bl\r\n",
      "              use PWD from environment, even if it contains symlinks\r\n",
      "\r\n",
      "       -\b-P\bP, -\b--\b-p\bph\bhy\bys\bsi\bic\bca\bal\bl\r\n",
      "              avoid all symlinks\r\n",
      "\r\n",
      "       -\b--\b-h\bhe\bel\blp\bp display this help and exit\r\n",
      "\r\n",
      "       -\b--\b-v\bve\ber\brs\bsi\bio\bon\bn\r\n",
      "              output version information and exit\r\n",
      "\r\n",
      "       If no option is specified, -\b-P\bP is assumed.\r\n",
      "\r\n",
      "       NOTE:  your shell may have its own version of pwd, which usually super‐\r\n",
      "       sedes the version described here.  Please refer to your  shell's  docu‐\r\n",
      "       mentation for details about the options it supports.\r\n",
      "\r\n",
      "A\bAU\bUT\bTH\bHO\bOR\bR\r\n",
      "       Written by Jim Meyering.\r\n",
      "\r\n",
      "R\bRE\bEP\bPO\bOR\bRT\bTI\bIN\bNG\bG B\bBU\bUG\bGS\bS\r\n",
      "       GNU coreutils online help: <http://www.gnu.org/software/coreutils/>\r\n",
      "       Report pwd translation bugs to <http://translationproject.org/team/>\r\n",
      "\r\n",
      "C\bCO\bOP\bPY\bYR\bRI\bIG\bGH\bHT\bT\r\n",
      "       Copyright  ©  2017  Free Software Foundation, Inc.  License GPLv3+: GNU\r\n",
      "       GPL version 3 or later <http://gnu.org/licenses/gpl.html>.\r\n",
      "       This is free software: you are free  to  change  and  redistribute  it.\r\n",
      "       There is NO WARRANTY, to the extent permitted by law.\r\n",
      "\r\n",
      "S\bSE\bEE\bE A\bAL\bLS\bSO\bO\r\n",
      "       getcwd(3)\r\n",
      "\r\n",
      "       Full documentation at: <http://www.gnu.org/software/coreutils/pwd>\r\n",
      "       or available locally via: info '(coreutils) pwd invocation'\r\n",
      "\r\n",
      "GNU coreutils 8.28               January 2018                           PWD(1)\r\n"
     ]
    }
   ],
   "source": [
    "!man pwd"
   ]
  },
  {
   "cell_type": "markdown",
   "metadata": {},
   "source": [
    "## Limiting Man page output\n",
    "\n",
    "Sometimes the man pages are lengthy. To restrict the man page output to few lines, let us **pipeline** the `man <command>` output as an input to another system command that sieves out the first few lines. The subsequent command is the `head -<number>` following the pipeline `|`"
   ]
  },
  {
   "cell_type": "code",
   "execution_count": 41,
   "metadata": {},
   "outputs": [
    {
     "name": "stdout",
     "output_type": "stream",
     "text": [
      "PWD(1)                           User Commands                          PWD(1)\r\n",
      "\r\n",
      "NAME\r\n",
      "       pwd - print name of current/working directory\r\n",
      "\r\n",
      "SYNOPSIS\r\n",
      "       pwd [OPTION]...\r\n",
      "\r\n",
      "DESCRIPTION\r\n",
      "       Print the full filename of the current working directory.\r\n"
     ]
    }
   ],
   "source": [
    "!man pwd | head -10"
   ]
  },
  {
   "cell_type": "markdown",
   "metadata": {},
   "source": [
    "## List the files in the GIT repository\n",
    "\n",
    "The following files are present in the current gitted repository:"
   ]
  },
  {
   "cell_type": "code",
   "execution_count": 35,
   "metadata": {},
   "outputs": [
    {
     "name": "stdout",
     "output_type": "stream",
     "text": [
      "total 72\r\n",
      "drwxr-xr-x  6 fubar fubar  4096 Nov  4 13:15 .\r\n",
      "drwxr-x--- 13 fubar fubar  4096 Nov  1 16:56 ..\r\n",
      "drwxr-xr-x  7 fubar fubar  4096 Nov  1 17:12 env-git\r\n",
      "-rw-r--r--  1 fubar fubar     8 Nov  4 12:40 env-requirements.txt\r\n",
      "drwxr-xr-x  7 fubar fubar  4096 Nov  4 12:59 .git\r\n",
      "-rw-r--r--  1 fubar fubar    16 Nov  4 12:35 .gitignore\r\n",
      "drwxr-xr-x  2 fubar fubar  4096 Nov  1 17:29 .ipynb_checkpoints\r\n",
      "drwxr-xr-x 25 fubar fubar  4096 Nov  1 18:30 linux\r\n",
      "-rw-r--r--  1 fubar fubar 29853 Nov  4 13:15 MiningGitRepository.ipynb\r\n",
      "-rw-r--r--  1 fubar fubar   585 Nov  4 12:47 README.md\r\n",
      "-rw-r--r--  1 fubar fubar   837 Nov  4 12:40 requirements.txt\r\n"
     ]
    }
   ],
   "source": [
    "!ls -al"
   ]
  },
  {
   "cell_type": "markdown",
   "metadata": {},
   "source": [
    "In this notebook, we will use the following system tools to perform data mining on the linux Gitted repository\n",
    "\n",
    "- wc - print newline, word, and byte counts for each file\n",
    "- tail - output the last part of files\n",
    "- head - output the first part of files"
   ]
  },
  {
   "cell_type": "code",
   "execution_count": 33,
   "metadata": {},
   "outputs": [
    {
     "name": "stdout",
     "output_type": "stream",
     "text": [
      "HEAD(1)                          User Commands                         HEAD(1)\r\n",
      "\r\n",
      "NAME\r\n",
      "       head - output the first part of files\r\n",
      "\r\n",
      "SYNOPSIS\r\n",
      "       head [OPTION]... [FILE]...\r\n",
      "\r\n",
      "DESCRIPTION\r\n",
      "       Print  the  first  10 lines of each FILE to standard output.  With more\r\n"
     ]
    }
   ],
   "source": [
    "!man head | head -10"
   ]
  },
  {
   "cell_type": "code",
   "execution_count": 38,
   "metadata": {},
   "outputs": [
    {
     "name": "stdout",
     "output_type": "stream",
     "text": [
      "GIT(1)                            Git Manual                            GIT(1)\n",
      "\n",
      "NAME\n",
      "       git - the stupid content tracker\n",
      "\n",
      "SYNOPSIS\n",
      "       git [--version] [--help] [-C <path>] [-c <name>=<value>]\n",
      "           [--exec-path[=<path>]] [--html-path] [--man-path] [--info-path]\n",
      "           [-p|--paginate|--no-pager] [--no-replace-objects] [--bare]\n",
      "           [--git-dir=<path>] [--work-tree=<path>] [--namespace=<name>]\n",
      "col: write error\n",
      "grotty:<standard input> (<standard input>):15562:fatal error: output error\n",
      "man: command exited with status 1: (cd /usr/share/man && /usr/lib/man-db/zsoelim) | (cd /usr/share/man && /usr/lib/man-db/manconv -f UTF-8:ISO-8859-1 -t UTF-8//IGNORE) | (cd /usr/share/man && preconv -e UTF-8) | (cd /usr/share/man && tbl) | (cd /usr/share/man && nroff -mandoc -Tutf8)\n"
     ]
    }
   ],
   "source": [
    "!man git | head -10"
   ]
  },
  {
   "cell_type": "markdown",
   "metadata": {},
   "source": [
    "---\n",
    "\n",
    "# `git init`: Initialize a GIT repository\n",
    "\n",
    "`git init` creates a `.git` subdirectory that holds information of the various versions of the repository in the form of commits. Commits are **snapshots** as explained in the [GIT parable](http://tom.preston-werner.com/2009/05/19/the-git-parable.html) by Tom Preston Werner. The deeper aspects are not covered here and postponed to an advanced article.\n",
    "\n",
    "`git status` tracks the status of the repository by checking which files are tracked, yet to be tracked, staged, modified\n",
    "\n",
    "`.gitignore` file : files which we do not intend to track can be listed in this hidden file. `git` ignores tracking them altogether."
   ]
  },
  {
   "cell_type": "code",
   "execution_count": 42,
   "metadata": {},
   "outputs": [
    {
     "name": "stdout",
     "output_type": "stream",
     "text": [
      "Reinitialized existing Git repository in /home/fubar/Documents/GITprojects/MyGitProjects/GitBasics/.git/\r\n"
     ]
    }
   ],
   "source": [
    "!git init"
   ]
  },
  {
   "cell_type": "code",
   "execution_count": 43,
   "metadata": {},
   "outputs": [
    {
     "name": "stdout",
     "output_type": "stream",
     "text": [
      "On branch master\r\n",
      "\r\n",
      "No commits yet\r\n",
      "\r\n",
      "Untracked files:\r\n",
      "  (use \"git add <file>...\" to include in what will be committed)\r\n",
      "\r\n",
      "\t\u001b[31m.gitignore\u001b[m\r\n",
      "\t\u001b[31m.ipynb_checkpoints/\u001b[m\r\n",
      "\t\u001b[31mMiningGitRepository.ipynb\u001b[m\r\n",
      "\t\u001b[31mREADME.md\u001b[m\r\n",
      "\t\u001b[31menv-requirements.txt\u001b[m\r\n",
      "\t\u001b[31mrequirements.txt\u001b[m\r\n",
      "\r\n",
      "nothing added to commit but untracked files present (use \"git add\" to track)\r\n"
     ]
    }
   ],
   "source": [
    "!git status"
   ]
  },
  {
   "cell_type": "markdown",
   "metadata": {},
   "source": [
    "## Create a `.gitignore` file\n",
    "\n",
    "Create a `.gitignore` file and let us add the `env-git/` to the ignore list\n",
    "\n",
    "Check if the `env-git` venv is not listed in the `git status` output"
   ]
  },
  {
   "cell_type": "code",
   "execution_count": 44,
   "metadata": {},
   "outputs": [
    {
     "name": "stdout",
     "output_type": "stream",
     "text": [
      "On branch master\r\n",
      "\r\n",
      "No commits yet\r\n",
      "\r\n",
      "Untracked files:\r\n",
      "  (use \"git add <file>...\" to include in what will be committed)\r\n",
      "\r\n",
      "\t\u001b[31m.gitignore\u001b[m\r\n",
      "\t\u001b[31m.ipynb_checkpoints/\u001b[m\r\n",
      "\t\u001b[31mMiningGitRepository.ipynb\u001b[m\r\n",
      "\t\u001b[31mREADME.md\u001b[m\r\n",
      "\t\u001b[31menv-requirements.txt\u001b[m\r\n",
      "\t\u001b[31mrequirements.txt\u001b[m\r\n",
      "\r\n",
      "nothing added to commit but untracked files present (use \"git add\" to track)\r\n"
     ]
    }
   ],
   "source": [
    "!git status"
   ]
  },
  {
   "cell_type": "markdown",
   "metadata": {},
   "source": [
    "# `git add`: Tracking the files\n",
    "\n",
    "Once the `git` repository has been initialized, we need to track the files in the repository. Each file in the working directory is in one of two states:\n",
    "\n",
    "- tracked\n",
    "- untracked\n",
    "\n",
    "\n",
    "Tracking a file, in short, means that Git knows about that file.\n",
    "\n",
    "To check the state of any file, use `git status <file>`.\n",
    "\n",
    "Git considers a tracked file to be either a staged, unmodified or modified file.\n",
    "\n",
    "For an hitherto untracked file, `git add <file>` stages the file `<file>`. Check the status to see if the files are staged. Once staged, `git` places them in a staging directory and the status of the file is `staged`.\n",
    "\n",
    "Further edit to a staged file can change its state to `modified`.\n",
    "\n",
    "`Unmodified` files are tracked files from previous snapshots.\n",
    "\n",
    "To avoid tracking a file, add its name to the `.gitignore` hidden file.\n",
    "\n",
    "![Status-of-files-in-a-Git-Repository](images/GIT-Basics-00-StatesOfFiles.png)"
   ]
  },
  {
   "cell_type": "markdown",
   "metadata": {},
   "source": [
    "## Step 1: Staging the file\n",
    "\n",
    "Let me stage the `.gitignore`, `README.md` and the current Jupyter notebook files among other things."
   ]
  },
  {
   "cell_type": "code",
   "execution_count": 45,
   "metadata": {},
   "outputs": [],
   "source": [
    "!git add .gitignore\n",
    "!git add .ipynb_checkpoints/\n",
    "!git add MiningGitRepository.ipynb\n",
    "!git add README.md\n",
    "!git add env-requirements.txt\n",
    "!git add requirements.txt"
   ]
  },
  {
   "cell_type": "code",
   "execution_count": 47,
   "metadata": {},
   "outputs": [
    {
     "name": "stdout",
     "output_type": "stream",
     "text": [
      "On branch master\r\n",
      "\r\n",
      "No commits yet\r\n",
      "\r\n",
      "Changes to be committed:\r\n",
      "  (use \"git rm --cached <file>...\" to unstage)\r\n",
      "\r\n",
      "\t\u001b[32mnew file:   .gitignore\u001b[m\r\n",
      "\t\u001b[32mnew file:   .ipynb_checkpoints/MiningGitRepository-checkpoint.ipynb\u001b[m\r\n",
      "\t\u001b[32mnew file:   MiningGitRepository.ipynb\u001b[m\r\n",
      "\t\u001b[32mnew file:   README.md\u001b[m\r\n",
      "\t\u001b[32mnew file:   env-requirements.txt\u001b[m\r\n",
      "\t\u001b[32mnew file:   requirements.txt\u001b[m\r\n",
      "\r\n",
      "Changes not staged for commit:\r\n",
      "  (use \"git add <file>...\" to update what will be committed)\r\n",
      "  (use \"git checkout -- <file>...\" to discard changes in working directory)\r\n",
      "\r\n",
      "\t\u001b[31mmodified:   MiningGitRepository.ipynb\u001b[m\r\n",
      "\r\n"
     ]
    }
   ],
   "source": [
    "!git status"
   ]
  },
  {
   "cell_type": "markdown",
   "metadata": {},
   "source": [
    "## Step 2: Commiting the file\n",
    "\n",
    "To complete the tracking, we need to `commit` the file a `snapshot`. `git commit` completes the tracking.\n",
    "\n",
    "A commit usually involves a commit message that summarizes the changes done in the commit. It is a single sentence and convention is to keep it as ~~succint~~ simple as possible."
   ]
  },
  {
   "cell_type": "code",
   "execution_count": 48,
   "metadata": {},
   "outputs": [
    {
     "name": "stdout",
     "output_type": "stream",
     "text": [
      "[master (root-commit) a61fdb0] my first commit\r\n",
      " 6 files changed, 1951 insertions(+)\r\n",
      " create mode 100644 .gitignore\r\n",
      " create mode 100644 .ipynb_checkpoints/MiningGitRepository-checkpoint.ipynb\r\n",
      " create mode 100644 MiningGitRepository.ipynb\r\n",
      " create mode 100644 README.md\r\n",
      " create mode 100644 env-requirements.txt\r\n",
      " create mode 100644 requirements.txt\r\n"
     ]
    }
   ],
   "source": [
    "!git commit -m 'my first commit'"
   ]
  },
  {
   "cell_type": "code",
   "execution_count": 49,
   "metadata": {},
   "outputs": [
    {
     "name": "stdout",
     "output_type": "stream",
     "text": [
      "On branch master\r\n",
      "Changes not staged for commit:\r\n",
      "  (use \"git add <file>...\" to update what will be committed)\r\n",
      "  (use \"git checkout -- <file>...\" to discard changes in working directory)\r\n",
      "\r\n",
      "\t\u001b[31mmodified:   MiningGitRepository.ipynb\u001b[m\r\n",
      "\r\n",
      "no changes added to commit (use \"git add\" and/or \"git commit -a\")\r\n"
     ]
    }
   ],
   "source": [
    "!git status"
   ]
  },
  {
   "cell_type": "markdown",
   "metadata": {},
   "source": [
    "---\n",
    "\n",
    "# Cloning an existing repository\n",
    "\n",
    "If we want to work with existing Git repositories, `git clone <repository>` copies the whole repository. The copy includes not just the working directory, but also the complete commit history of the project. This feature is unique to Git in comparison to the other VCS'es.\n",
    "\n",
    "## Clone the linux kernel source tree\n",
    "\n",
    "The [Linux Git repository](https://github.com/torvalds/linux) is hosted on the GitHub server.\n",
    "This repository hosts the Linux kernel source tree.\n",
    "The repository has a relatively big size ($~ 2.5 GB$) and might take a while to clone. So go for a stroll and come back with fresh mind.\n",
    "After a successful clone, a `linux/` subdirectory is created in our root directory"
   ]
  },
  {
   "cell_type": "code",
   "execution_count": 54,
   "metadata": {},
   "outputs": [
    {
     "name": "stdout",
     "output_type": "stream",
     "text": [
      "fatal: destination path 'linux' already exists and is not an empty directory.\r\n"
     ]
    }
   ],
   "source": [
    "!git clone https://github.com/torvalds/linux.git"
   ]
  },
  {
   "cell_type": "markdown",
   "metadata": {},
   "source": [
    "> **CLARIFICATION**: After a successful clone, there are now two GITS functioning (i.e. two locations of `.git` directory within the root directory). The original `.git` of the root directory and the bottom-level `.git` of the `linux/` subdirectory.\n",
    "\n",
    "> **IMPORTANT**: Add the `linux/` subdirectory to the `.gitignore`. We do not want to git our `linux/` subdirectory due to its sheer size. The `linux` subdirectory itself has its own `.gitignore` file; however it is ignored by the top directory `.gitignore`."
   ]
  },
  {
   "cell_type": "markdown",
   "metadata": {},
   "source": [
    "To check the status of the root git repository, use `git status`. without options to the `git`, it assumes the `.git` directory is present at the `pwd`"
   ]
  },
  {
   "cell_type": "code",
   "execution_count": 50,
   "metadata": {},
   "outputs": [
    {
     "name": "stdout",
     "output_type": "stream",
     "text": [
      "On branch master\r\n",
      "Changes not staged for commit:\r\n",
      "  (use \"git add <file>...\" to update what will be committed)\r\n",
      "  (use \"git checkout -- <file>...\" to discard changes in working directory)\r\n",
      "\r\n",
      "\t\u001b[31mmodified:   MiningGitRepository.ipynb\u001b[m\r\n",
      "\r\n",
      "no changes added to commit (use \"git add\" and/or \"git commit -a\")\r\n"
     ]
    }
   ],
   "source": [
    "!git status"
   ]
  },
  {
   "cell_type": "markdown",
   "metadata": {},
   "source": [
    "---\n",
    "\n",
    "# Mining the Linux Git Repository\n",
    "\n",
    "Let us mine the cloned Linux repository to explore the `git` basics.\n",
    "\n",
    "In order to check the status of the bottom-level git repository (tracking the `linux/` subdirectory) use the `-C <pathname>` where the <pathname> can be relative also.    "
   ]
  },
  {
   "cell_type": "code",
   "execution_count": 55,
   "metadata": {},
   "outputs": [
    {
     "name": "stdout",
     "output_type": "stream",
     "text": [
      "On branch master\r\n",
      "Your branch is behind 'origin/master' by 302 commits, and can be fast-forwarded.\r\n",
      "  (use \"git pull\" to update your local branch)\r\n",
      "\r\n",
      "nothing to commit, working tree clean\r\n"
     ]
    }
   ],
   "source": [
    "!git -C linux status"
   ]
  },
  {
   "cell_type": "markdown",
   "metadata": {},
   "source": [
    "Let us decipher the status message. The key words are `On branch master`, `behind origin/master`. If the status message is that branch is behind the origin, let us not worry. First keyword says we are on the branch `master` of the current clone. and second keyword says that the current branch is behind the `master` branch of `origin` source by some commits."
   ]
  },
  {
   "cell_type": "markdown",
   "metadata": {},
   "source": [
    "---\n",
    "\n",
    "# `git log`: Viewing the commit history\n",
    "\n",
    "Our project development progresses as a series of snapshots.\n",
    "These snapshots are linked to each other by the process of commiting.\n",
    "\n",
    "Let us check the commit history of the linux repository.\n",
    "`git log` is the most basic command. By default, this command lists the commits in reverse chronological order.\n",
    "\n",
    "## Total number of commits\n",
    "\n",
    "To get a feel for the size of the Linux project, let us find the total number of commits.\n",
    "\n",
    "The linux project is a relatively mature project with a timeline of more than 20 years. The maturity of the project is evident from the total number of commits running more than `850k`. This is extracted by using `git log --oneline` and redirecting output to `wc -l` which counts the lines.\n",
    "\n",
    "The option `-C linux` is to ensure the git processes the linux directory.\n",
    "\n"
   ]
  },
  {
   "cell_type": "code",
   "execution_count": 67,
   "metadata": {},
   "outputs": [
    {
     "name": "stdout",
     "output_type": "stream",
     "text": [
      "872749\r\n"
     ]
    }
   ],
   "source": [
    "!git -C linux log --oneline | wc -l"
   ]
  },
  {
   "cell_type": "markdown",
   "metadata": {},
   "source": [
    "\n",
    "## First and latest 3 commits\n",
    "\n",
    "Let us check some of the commit messages. Due to the size of the linux repository, let us limit to the latest 3 commits. For this use `head -3` command as a pipe to the output of `git log`. An alternative command without pipelining is using option `git log -3`. The latter has the advantage of retaining the git color coding scheme.\n",
    "\n",
    "For the first 3 commits, use `tail -3` command.\n",
    "\n",
    "Most of the commits are patches qualified by the `[PATCH]` header. It seems that there is a convention followed for commit messages for the linux repository."
   ]
  },
  {
   "cell_type": "code",
   "execution_count": 68,
   "metadata": {},
   "outputs": [
    {
     "name": "stdout",
     "output_type": "stream",
     "text": [
      "4dd58158254c Merge branch 'akpm' (patches from Andrew)\r\n",
      "869712fd3de5 mm: memcontrol: fix network errors from failing __GFP_ATOMIC charges\r\n",
      "656d57119326 mm/memory_hotplug: fix updating the node span\r\n"
     ]
    }
   ],
   "source": [
    "!git -C linux log --oneline | head -3"
   ]
  },
  {
   "cell_type": "code",
   "execution_count": 13,
   "metadata": {},
   "outputs": [
    {
     "name": "stdout",
     "output_type": "stream",
     "text": [
      "\u001b[33me472c64aa4fa\u001b[m\u001b[33m (\u001b[m\u001b[1;36mHEAD -> \u001b[m\u001b[1;32mmaster\u001b[m\u001b[33m)\u001b[m Merge tag 'dmaengine-fix-5.4-rc6' of git://git.infradead.org/users/vkoul/slave-dma\r\n",
      "\u001b[33m320000e72ec0\u001b[m Merge tag 'iommu-fixes-v5.4-rc5' of git://git.kernel.org/pub/scm/linux/kernel/git/joro/iommu\r\n",
      "\u001b[33mb66b449872d3\u001b[m Merge tag 'gfs2-v5.4-rc5.fixes' of git://git.kernel.org/pub/scm/linux/kernel/git/gfs2/linux-gfs2\r\n"
     ]
    }
   ],
   "source": [
    "!git -C linux log --oneline -3"
   ]
  },
  {
   "cell_type": "code",
   "execution_count": 14,
   "metadata": {},
   "outputs": [
    {
     "name": "stdout",
     "output_type": "stream",
     "text": [
      "baaa2c512dc1 [PATCH] Avoid deadlock in sync_page_io by using GFP_NOIO\r\n",
      "8d38eadb7a97 [PATCH] mmtimer build fix\r\n",
      "1da177e4c3f4 Linux-2.6.12-rc2\r\n"
     ]
    }
   ],
   "source": [
    "!git -C linux log --oneline | tail -3"
   ]
  },
  {
   "cell_type": "markdown",
   "metadata": {},
   "source": [
    "## More power with `git log`\n",
    "\n",
    "Some of the popular options of `git log` are:\n",
    "\n",
    "- `-p` or `--patch` which shows the difference introduced in each commit.\n",
    "- `-<number>` or `-n <number>` or `--max-count=<number>`: limit the number of commits to <number>\n",
    "- `--stat` give the diff stats for each commit"
   ]
  },
  {
   "cell_type": "code",
   "execution_count": 10,
   "metadata": {},
   "outputs": [
    {
     "name": "stdout",
     "output_type": "stream",
     "text": [
      "\u001b[33mcommit e472c64aa4fa6150c6076fd36d101d667d71c30a\u001b[m\u001b[33m (\u001b[m\u001b[1;36mHEAD -> \u001b[m\u001b[1;32mmaster\u001b[m\u001b[33m)\u001b[m\r\n",
      "Merge: 320000e72ec0 bacdcb6675e1\r\n",
      "Author: Linus Torvalds <torvalds@linux-foundation.org>\r\n",
      "Date:   Thu Oct 31 07:34:09 2019 +0000\r\n",
      "\r\n",
      "    Merge tag 'dmaengine-fix-5.4-rc6' of git://git.infradead.org/users/vkoul/slave-dma\r\n",
      "    \r\n",
      "    Pull dmaengine fixes from Vinod Koul:\r\n",
      "     \"A few fixes to the dmaengine drivers:\r\n",
      "    \r\n",
      "       - fix in sprd driver for link list and potential memory leak\r\n",
      "    \r\n",
      "       - tegra transfer failure fix\r\n",
      "    \r\n",
      "       - imx size check fix for script_number\r\n",
      "    \r\n",
      "       - xilinx fix for 64bit AXIDMA and control reg update\r\n",
      "    \r\n",
      "       - qcom bam dma resource leak fix\r\n",
      "    \r\n",
      "       - cppi slave transfer fix when idle\"\r\n",
      "    \r\n",
      "    * tag 'dmaengine-fix-5.4-rc6' of git://git.infradead.org/users/vkoul/slave-dma:\r\n",
      "      dmaengine: cppi41: Fix cppi41_dma_prep_slave_sg() when idle\r\n",
      "      dmaengine: qcom: bam_dma: Fix resource leak\r\n",
      "      dmaengine: sprd: Fix the possible memory leak issue\r\n",
      "      dmaengine: xilinx_dma: Fix control reg update in vdma_channel_set_config\r\n",
      "      dmaengine: xilinx_dma: Fix 64-bit simple AXIDMA transfer\r\n",
      "      dmaengine: imx-sdma: fix size check for sdma script_number\r\n",
      "      dmaengine: tegra210-adma: fix transfer failure\r\n",
      "      dmaengine: sprd: Fix the link-list pointer register configuration issue\r\n",
      "\r\n",
      "\u001b[33mcommit 320000e72ec0613e164ce9608d865396fb2da278\u001b[m\r\n",
      "Merge: b66b449872d3 160c63f909ff\r\n",
      "Author: Linus Torvalds <torvalds@linux-foundation.org>\r\n",
      "Date:   Wed Oct 30 14:17:18 2019 +0100\r\n",
      "\r\n",
      "    Merge tag 'iommu-fixes-v5.4-rc5' of git://git.kernel.org/pub/scm/linux/kernel/git/joro/iommu\r\n",
      "    \r\n",
      "    Pull iommu fixes from Joerg Roedel:\r\n",
      "    \r\n",
      "     - Follow-on fix for Renesas IPMMU to get rid of a redundant error\r\n",
      "       message.\r\n",
      "    \r\n",
      "     - Quirk for AMD IOMMU to make it work on another Acer Laptop model with\r\n",
      "       a broken IVRS ACPI table.\r\n",
      "    \r\n",
      "     - Fix for a panic at kdump in the Intel IOMMU driver.\r\n",
      "    \r\n",
      "    * tag 'iommu-fixes-v5.4-rc5' of git://git.kernel.org/pub/scm/linux/kernel/git/joro/iommu:\r\n",
      "      iommu/vt-d: Fix panic after kexec -p for kdump\r\n",
      "      iommu/amd: Apply the same IVRS IOAPIC workaround to Acer Aspire A315-41\r\n",
      "      iommu/ipmmu-vmsa: Remove dev_err() on platform_get_irq() failure\r\n"
     ]
    }
   ],
   "source": [
    "!git -C linux log -p -2"
   ]
  },
  {
   "cell_type": "code",
   "execution_count": 11,
   "metadata": {},
   "outputs": [
    {
     "name": "stdout",
     "output_type": "stream",
     "text": [
      "\u001b[33mcommit e472c64aa4fa6150c6076fd36d101d667d71c30a\u001b[m\u001b[33m (\u001b[m\u001b[1;36mHEAD -> \u001b[m\u001b[1;32mmaster\u001b[m\u001b[33m)\u001b[m\r\n",
      "Merge: 320000e72ec0 bacdcb6675e1\r\n",
      "Author: Linus Torvalds <torvalds@linux-foundation.org>\r\n",
      "Date:   Thu Oct 31 07:34:09 2019 +0000\r\n",
      "\r\n",
      "    Merge tag 'dmaengine-fix-5.4-rc6' of git://git.infradead.org/users/vkoul/slave-dma\r\n",
      "    \r\n",
      "    Pull dmaengine fixes from Vinod Koul:\r\n",
      "     \"A few fixes to the dmaengine drivers:\r\n",
      "    \r\n",
      "       - fix in sprd driver for link list and potential memory leak\r\n",
      "    \r\n",
      "       - tegra transfer failure fix\r\n",
      "    \r\n",
      "       - imx size check fix for script_number\r\n",
      "    \r\n",
      "       - xilinx fix for 64bit AXIDMA and control reg update\r\n",
      "    \r\n",
      "       - qcom bam dma resource leak fix\r\n",
      "    \r\n",
      "       - cppi slave transfer fix when idle\"\r\n",
      "    \r\n",
      "    * tag 'dmaengine-fix-5.4-rc6' of git://git.infradead.org/users/vkoul/slave-dma:\r\n",
      "      dmaengine: cppi41: Fix cppi41_dma_prep_slave_sg() when idle\r\n",
      "      dmaengine: qcom: bam_dma: Fix resource leak\r\n",
      "      dmaengine: sprd: Fix the possible memory leak issue\r\n",
      "      dmaengine: xilinx_dma: Fix control reg update in vdma_channel_set_config\r\n",
      "      dmaengine: xilinx_dma: Fix 64-bit simple AXIDMA transfer\r\n",
      "      dmaengine: imx-sdma: fix size check for sdma script_number\r\n",
      "      dmaengine: tegra210-adma: fix transfer failure\r\n",
      "      dmaengine: sprd: Fix the link-list pointer register configuration issue\r\n",
      "\r\n",
      "\u001b[33mcommit 320000e72ec0613e164ce9608d865396fb2da278\u001b[m\r\n",
      "Merge: b66b449872d3 160c63f909ff\r\n",
      "Author: Linus Torvalds <torvalds@linux-foundation.org>\r\n",
      "Date:   Wed Oct 30 14:17:18 2019 +0100\r\n",
      "\r\n",
      "    Merge tag 'iommu-fixes-v5.4-rc5' of git://git.kernel.org/pub/scm/linux/kernel/git/joro/iommu\r\n",
      "    \r\n",
      "    Pull iommu fixes from Joerg Roedel:\r\n",
      "    \r\n",
      "     - Follow-on fix for Renesas IPMMU to get rid of a redundant error\r\n",
      "       message.\r\n",
      "    \r\n",
      "     - Quirk for AMD IOMMU to make it work on another Acer Laptop model with\r\n",
      "       a broken IVRS ACPI table.\r\n",
      "    \r\n",
      "     - Fix for a panic at kdump in the Intel IOMMU driver.\r\n",
      "    \r\n",
      "    * tag 'iommu-fixes-v5.4-rc5' of git://git.kernel.org/pub/scm/linux/kernel/git/joro/iommu:\r\n",
      "      iommu/vt-d: Fix panic after kexec -p for kdump\r\n",
      "      iommu/amd: Apply the same IVRS IOAPIC workaround to Acer Aspire A315-41\r\n",
      "      iommu/ipmmu-vmsa: Remove dev_err() on platform_get_irq() failure\r\n"
     ]
    }
   ],
   "source": [
    "!git -C linux log --stat -2"
   ]
  },
  {
   "cell_type": "markdown",
   "metadata": {},
   "source": [
    "## Limiting log output\n",
    "\n",
    "There are various dimensions along which the `git log` can be processed and thereby limited. The various filters are\n",
    "\n",
    "\n",
    "\n",
    "### Author filter\n",
    "\n",
    "Using `--author=<author>` or `--committer=<committer>`\n",
    "\n",
    "Let us check how many commits **Linus Torvalds** has made to the repository."
   ]
  },
  {
   "cell_type": "code",
   "execution_count": 15,
   "metadata": {},
   "outputs": [
    {
     "name": "stdout",
     "output_type": "stream",
     "text": [
      "28417\r\n"
     ]
    }
   ],
   "source": [
    "!git -C linux log --oneline --author='Linus Torvalds' | wc -l "
   ]
  },
  {
   "cell_type": "code",
   "execution_count": 16,
   "metadata": {},
   "outputs": [
    {
     "name": "stdout",
     "output_type": "stream",
     "text": [
      "31846\r\n"
     ]
    }
   ],
   "source": [
    "!git -C linux log --oneline --author=Linus | wc -l"
   ]
  },
  {
   "cell_type": "code",
   "execution_count": 17,
   "metadata": {},
   "outputs": [
    {
     "name": "stdout",
     "output_type": "stream",
     "text": [
      "28417\r\n"
     ]
    }
   ],
   "source": [
    "!git -C linux log --oneline --author=Torvalds | wc -l "
   ]
  },
  {
   "cell_type": "markdown",
   "metadata": {},
   "source": [
    "### Temporal filter\n",
    "\n",
    "Using `--since=2.weeks` or `--since='2019-11-01'` or `since='1 year 2 day 3 minutes ago'`\n",
    "\n",
    "Let us check how many commits are made since **01 October 2019** to the repository.\n"
   ]
  },
  {
   "cell_type": "code",
   "execution_count": 20,
   "metadata": {},
   "outputs": [
    {
     "name": "stdout",
     "output_type": "stream",
     "text": [
      "1277\r\n"
     ]
    }
   ],
   "source": [
    "!git -C linux log --oneline --since=2019-10-01 | wc -l"
   ]
  },
  {
   "cell_type": "markdown",
   "metadata": {},
   "source": [
    "### Filters honour Boolean AND logic\n",
    "\n",
    "Let us check how many commits are made by **Linus Torvalds** since **01 October 2019** to the repository."
   ]
  },
  {
   "cell_type": "code",
   "execution_count": 21,
   "metadata": {},
   "outputs": [
    {
     "name": "stdout",
     "output_type": "stream",
     "text": [
      "142\r\n"
     ]
    }
   ],
   "source": [
    "!git -C linux log --oneline --since=2019-10-01 --author='Linus Torvalds' | wc -l"
   ]
  },
  {
   "cell_type": "markdown",
   "metadata": {},
   "source": [
    "### Path filter\n",
    "\n",
    "Limit log output to specific sub-directory within the repository using `-- <path>`. Specify this at the **end** of all the options. If the `-C <pathname>` is mentioned apriori for the `git` command to track then this path should be relative to the `<pathname>`\n",
    "\n",
    "Let us check how many commits are made in the **Documentation** subdirectory. Documenation is an important part of the Kernel project.\n"
   ]
  },
  {
   "cell_type": "code",
   "execution_count": 73,
   "metadata": {},
   "outputs": [
    {
     "name": "stdout",
     "output_type": "stream",
     "text": [
      "41582\r\n"
     ]
    }
   ],
   "source": [
    "!git -C linux log --oneline -- Documentation/ | wc -l"
   ]
  },
  {
   "cell_type": "markdown",
   "metadata": {},
   "source": [
    "### String filter: Git's **pickaxe**\n",
    "\n",
    "Using `-S <string>` we can filter the commits which changed the number of occurences of <string>. The string can be an English word, a function-name, etc. This option is called colloquially Git's **pickaxe** option.\n",
    "\n",
    "Let us check how many commits have introduced or changed the occurences of the word **usb** in the **Documentation** subdirectory."
   ]
  },
  {
   "cell_type": "code",
   "execution_count": 80,
   "metadata": {},
   "outputs": [
    {
     "name": "stdout",
     "output_type": "stream",
     "text": [
      "964\r\n"
     ]
    }
   ],
   "source": [
    "!git -C linux log --oneline -S 'usb' -- Documentation/ | wc -l"
   ]
  },
  {
   "cell_type": "markdown",
   "metadata": {},
   "source": [
    "---\n",
    "\n",
    "# `git remote`: Working with remotes\n",
    "\n",
    "The relationship between the clone and its `origin` (the remote from which we have cloned) can be tracked by `git remote --verbose` command.\n",
    "\n",
    "## Check the remote source to the current clone of the repository"
   ]
  },
  {
   "cell_type": "code",
   "execution_count": 2,
   "metadata": {},
   "outputs": [
    {
     "name": "stdout",
     "output_type": "stream",
     "text": [
      "origin\thttps://github.com/torvalds/linux.git (fetch)\r\n",
      "origin\thttps://github.com/torvalds/linux.git (push)\r\n"
     ]
    }
   ],
   "source": [
    "!git -C linux remote --verbose"
   ]
  },
  {
   "cell_type": "markdown",
   "metadata": {},
   "source": [
    "## Fetch the latest commits to the repository"
   ]
  },
  {
   "cell_type": "code",
   "execution_count": 70,
   "metadata": {},
   "outputs": [],
   "source": [
    "!git -C linux fetch origin"
   ]
  },
  {
   "cell_type": "markdown",
   "metadata": {},
   "source": [
    "---\n",
    "\n",
    "# `git tag`: Viewing the release history\n",
    "\n",
    "## Total releases of linux kernel\n",
    "\n",
    "The development cycle history of the Linux kernel project is very mature with close to $600$ releases over a span of $$ years. let us find out the number of releases using `git tag` command.\n",
    "\n"
   ]
  },
  {
   "cell_type": "code",
   "execution_count": 71,
   "metadata": {},
   "outputs": [
    {
     "name": "stdout",
     "output_type": "stream",
     "text": [
      "626\r\n"
     ]
    }
   ],
   "source": [
    "!git -C linux tag | wc -l"
   ]
  },
  {
   "cell_type": "markdown",
   "metadata": {},
   "source": [
    "## Latest 10 versions of linux\n",
    "\n",
    "Let us get the latest 10 release info"
   ]
  },
  {
   "cell_type": "code",
   "execution_count": 66,
   "metadata": {},
   "outputs": [
    {
     "name": "stdout",
     "output_type": "stream",
     "text": [
      "v5.3-rc5\r\n",
      "v5.3-rc6\r\n",
      "v5.3-rc7\r\n",
      "v5.3-rc8\r\n",
      "v5.4-rc1\r\n",
      "v5.4-rc2\r\n",
      "v5.4-rc3\r\n",
      "v5.4-rc4\r\n",
      "v5.4-rc5\r\n",
      "v5.4-rc6\r\n"
     ]
    }
   ],
   "source": [
    "!git -C linux tag | tail -10"
   ]
  },
  {
   "cell_type": "code",
   "execution_count": null,
   "metadata": {},
   "outputs": [],
   "source": []
  }
 ],
 "metadata": {
  "kernelspec": {
   "display_name": "Python 3",
   "language": "python",
   "name": "python3"
  },
  "language_info": {
   "codemirror_mode": {
    "name": "ipython",
    "version": 3
   },
   "file_extension": ".py",
   "mimetype": "text/x-python",
   "name": "python",
   "nbconvert_exporter": "python",
   "pygments_lexer": "ipython3",
   "version": "3.8.8"
  }
 },
 "nbformat": 4,
 "nbformat_minor": 2
}
