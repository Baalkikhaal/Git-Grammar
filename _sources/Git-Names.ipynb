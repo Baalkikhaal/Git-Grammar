{
 "cells": [
  {
   "cell_type": "markdown",
   "metadata": {},
   "source": [
    "# Git Names\n",
    "\n",
    "Git is an ecosystem with its own set of names and verbs. In this notebook, let us clarify on the various names that are frequently used during various workflows. We will list also under which typical workflows these are encountered.\n",
    "\n",
    "In the following cells, the <span style=\"color: DodgerBlue\">git names</span> are colored Dodger Blue (#1E90FF) while the <span style=\"color: DarkOrange\">git verbs</span> are colored Dark Orange (#FF8C00)."
   ]
  },
  {
   "cell_type": "markdown",
   "metadata": {},
   "source": [
    "## Index\n",
    "\n",
    "The [<span style=\"color: DodgerBlue\">index</span>](#Index) holds a [<span style=\"color: DodgerBlue\">snapshot</span>](#Snapshot) of the content of the working tree. It can be considered the root/ starting point of the <span style=\"color: DodgerBlue\">git repository</span>. \n",
    "\n",
    "When we run a `git init`, git initializes a `.git` sub directory. This is called the `git repository`. The `index` is a file within this git repository that hosts the information everything about how the git repository was constructed including all the snapshots.\n",
    "\n",
    "    fubar@desktop-fubar MINGW64 /e/thesis/myThesis/.git (GIT_DIR!)\n",
    "    $ file index\n",
    "    index: Git index, version 2, 446 entries\n",
    "\n",
    "\n",
    "This file has a [semi-ascii semi-binary format](https://git-scm.com/docs/index-format).\n",
    "\n",
    "### Workflows involving index\n",
    "\n",
    "- Initialize repository workflow"
   ]
  },
  {
   "cell_type": "markdown",
   "metadata": {},
   "source": [
    "## Working repository\n",
    "\n",
    "The working repository is the sibling of the git repository. It contains two sets of content. \n",
    "\n",
    "- the content within the repository is [<span style=\"color: DarkOrange\">checked-out</span>](Git-Verbs.ipynb#Checkout).\n",
    "- the content that is newly added.\n",
    "\n"
   ]
  },
  {
   "cell_type": "markdown",
   "metadata": {},
   "source": [
    "## Working directory\n",
    "\n",
    "Also called the <span style=\"color: DodgerBlue\">working tree</span>, <span style=\"color: DodgerBlue\">working directory</span> is the directory where you work and have access to **all** the files. It is a sibling of the <span style=\"color: DodgerBlue\">Git repository</span>. As mentioned in the Git Architecture, there are three kinds of files.\n",
    "\n",
    "- indexed files\n",
    "- staged files\n",
    "- modified files\n",
    "- tracked files\n",
    "- untracked files\n"
   ]
  },
  {
   "cell_type": "markdown",
   "metadata": {},
   "source": [
    "## Git repository\n",
    "\n",
    "Git repository is a subdirectory within the directory that is being version controlled. It hosts all the information related to version control. It is important to gain a clear distinction of <span style=\"color: DodgerBlue\">git repository</span> from its sibling, the <span style=\"color: DodgerBlue\">working directory</span>."
   ]
  },
  {
   "cell_type": "markdown",
   "metadata": {},
   "source": [
    "## Indexed files\n",
    "\n",
    "Indexed files are <span style=\"color: DarkOrange\">added</span> to the <span style=\"color: DodgerBlue\">Git repository</span> from the <span style=\"color: DodgerBlue\">working tree</span>.\n",
    "\n",
    "```bash\n",
    "$ cd /path/to/my/codebase\n",
    "$ git init      **(1)**\n",
    "$ git add .     **(2)**\n",
    "$ git commit    **(3)**\n",
    "```"
   ]
  },
  {
   "cell_type": "markdown",
   "metadata": {},
   "source": [
    "## Staged files\n",
    "\n",
    "Staged files contain changed content that can be potentially added to the next <span style=\"color: DodgerBlue\">commit</span>. The "
   ]
  },
  {
   "cell_type": "markdown",
   "metadata": {},
   "source": [
    "## Snapshot\n",
    "\n",
    "Snapshot is the state of the <span style=\"color: DodgerBlue\">Git repository</span> "
   ]
  },
  {
   "cell_type": "code",
   "execution_count": null,
   "metadata": {},
   "outputs": [],
   "source": []
  }
 ],
 "metadata": {
  "kernelspec": {
   "display_name": "Python 3",
   "language": "python",
   "name": "python3"
  },
  "language_info": {
   "codemirror_mode": {
    "name": "ipython",
    "version": 3
   },
   "file_extension": ".py",
   "mimetype": "text/x-python",
   "name": "python",
   "nbconvert_exporter": "python",
   "pygments_lexer": "ipython3",
   "version": "3.6.9"
  }
 },
 "nbformat": 4,
 "nbformat_minor": 5
}
