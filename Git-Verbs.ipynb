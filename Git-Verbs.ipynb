{
 "cells": [
  {
   "cell_type": "markdown",
   "metadata": {},
   "source": [
    "# Git Verbs\n",
    "\n",
    "In this notebook, let us look at the commonly used verbs and their associated git commands. This notebook complements the sibling notebook on names.\n",
    "\n",
    "For the sake of readability, the <span style=\"color: DarkOrange\">git verbs</span> are colored Dark Orange (#FF8C00) while the <span style=\"color: DodgerBlue\">git names</span> are colored Dodger Blue (#1E90FF)."
   ]
  },
  {
   "cell_type": "markdown",
   "metadata": {},
   "source": [
    "## Initialize\n",
    "\n",
    "Create an empty Git repository or reinitialize an existing one.\n",
    "\n",
    "```bash\n",
    "$ cd /path/to/my/working-directory\n",
    "$ git init      \n",
    "git init\n",
    "```\n",
    "\n",
    "#### Further reading\n",
    "\n",
    "    git init --help"
   ]
  },
  {
   "cell_type": "markdown",
   "metadata": {},
   "source": [
    "## Add\n",
    "\n",
    "Add file contents to the <span style=\"color: DodgerBlue\">index</span>. We can <span style=\"color: DarkOrange\">add</span>\n",
    "\n",
    "- <span style=\"color: DodgerBlue\">untracked files</span> to the <span style=\"color: DodgerBlue\">index</span>,\n",
    "- <span style=\"color: DodgerBlue\">modified files</span> to the <span style=\"color: DodgerBlue\">index</span>.\n",
    "\n",
    "Files added to the index are now <span style=\"color: DodgerBlue\">staged</span> and ready to be <span style=\"color: DarkOrange\">committed</span>.\n",
    "\n",
    "```bash\n",
    "$ cd /path/to/my/working-directory\n",
    "## do some work\n",
    "$ git add .\n",
    "```\n",
    "\n",
    "#### Further reading\n",
    "\n",
    "    git add --help"
   ]
  },
  {
   "cell_type": "markdown",
   "metadata": {},
   "source": [
    "## Restore\n",
    "\n",
    "Restore working tree files.\n",
    "\n",
    "Files can be restored either from HEAD or from the index.\n",
    "\n",
    "\n",
    "### restore from HEAD\n",
    "\n",
    "Updates to the index since the last commit are ignored and the files in the working directory are restored to the state in the last commit.\n",
    "\n",
    "```bash\n",
    "$ git init\n",
    "$ echo 'First line.' > file.txt\n",
    "$ git add .\n",
    "$ git commit -m 'first line commit'\n",
    "$ cat file.txt\n",
    "First line.\n",
    "$ echo 'Second line.' >> file.txt\n",
    "$ cat file.txt\n",
    "First line.\n",
    "Second line.\n",
    "$ git restore file.txt\n",
    "$ cat file.txt\n",
    "First line.\n",
    "```\n",
    "\n",
    "### restore from STAGED\n",
    "\n",
    "Suppose we have updated the index by adding some changes. Further we worked on some new changes. Now we do not like these changes and decide to restore to the last updated index. It is important to note that the index and HEAD diverge in this case. Use `--staged` option to restore the changes to index affected by the all the <span style=\"color: DarkOrange\">add</span> commands since the last commit.\n",
    "\n",
    "```bash\n",
    "$ cat file.txt\n",
    "First line.\n",
    "$ echo 'Second line.' >> file.txt   (1)\n",
    "$ cat file.txt\n",
    "First line.\n",
    "Second line.\n",
    "$ git add file.txt                  (2)\n",
    "$ git restore --staged file.txt     (3)\n",
    "$ cat file.txt\n",
    "First line.\n",
    "Second line.\n",
    "$ git restore file.txt              (4)\n",
    "$ cat file.txt\n",
    "First line.\n",
    "```\n",
    "\n",
    "1. Work in Progress (WIP).\n",
    "2. Update the index.\n",
    "3. Restore the index.\n",
    "4. Restore the working tree.\n",
    "\n",
    "```bash\n",
    "$ echo 'Third line.' >> file.txt\n",
    "$ cat file.txt\n",
    "First line.\n",
    "Second line.\n",
    "Third line.\n",
    "$ git restore file.txt\n",
    "$ cat file.txt\n",
    "First line.\n",
    "Second line.\n",
    "$ git restore --staged file.txt\n",
    "$ cat file.txt\n",
    "First line.\n",
    "Second line.\n",
    "$ git restore file.txt\n",
    "$ cat file.txt\n",
    "First line.\n",
    "```\n",
    "\n",
    "#### Notes\n",
    "\n",
    "<span style=\"color: DarkOrange\">restore</span> is an experimental verb. As of git version 2.17.1 that I use on my WSL Ubuntu 18.04 instance, it is not part of the verbs list while it is available as part of git version 2.31.1.windows.1 that I use on my Git for Windows bash shell.\n",
    "\n",
    "<span style=\"color: DarkOrange\">restore</span> has cousins <span style=\"color: DarkOrange\">reset</span> and <span style=\"color: DarkOrange\">revert</span>.\n",
    "\n",
    "#### Further reading\n",
    "\n",
    "    git restore --help"
   ]
  },
  {
   "cell_type": "markdown",
   "metadata": {},
   "source": [
    "## reset\n",
    "\n",
    "Reset current HEAD to the specified state.\n",
    "\n",
    "#### Further reading\n",
    "\n",
    "    git reset --help"
   ]
  },
  {
   "cell_type": "markdown",
   "metadata": {},
   "source": [
    "## commit\n",
    "\n",
    "Record changes to the repository.\n",
    "\n",
    "#### Further reading\n",
    "\n",
    "    git commit --help\n"
   ]
  },
  {
   "cell_type": "markdown",
   "metadata": {},
   "source": [
    "## rebase\n",
    "\n",
    "Reapply commits on top of another base tip.\n",
    "\n",
    "#### Further reading\n",
    "\n",
    "    git rebase --help"
   ]
  },
  {
   "cell_type": "markdown",
   "metadata": {},
   "source": [
    "## merge\n",
    "\n",
    "Join two or more development histories together\n",
    "\n",
    "#### Further reading\n",
    "\n",
    "    git merge --help"
   ]
  },
  {
   "cell_type": "markdown",
   "metadata": {},
   "source": [
    "## Checkout\n",
    "\n",
    "Switch branches or restore working tree files. This verb broadly has two types of use-cases\n",
    "\n",
    "- to <span style=\"color: DarkOrange\">restore</span> the <span style=\"color: DodgerBlue\">working tree</span> to either the <span style=\"color: DodgerBlue\">index</span>  or the <span style=\"color: DodgerBlue\">HEAD</span>.\n",
    "- to restore the working tree to a branch\n",
    "\n",
    "#### Notes\n",
    "\n",
    "Let us understand what happens under the hood when git checks out. Both the use-cases can be understood as expressions of the same action if we consider branches also as trees. This is the core design principles of the git version control. Git parable describes the tree model of version control very well.\n",
    "\n",
    "#### Further reading\n",
    "\n",
    "    git checkout --help"
   ]
  },
  {
   "cell_type": "code",
   "execution_count": null,
   "metadata": {},
   "outputs": [],
   "source": []
  }
 ],
 "metadata": {
  "kernelspec": {
   "display_name": "Python 3",
   "language": "python",
   "name": "python3"
  },
  "language_info": {
   "codemirror_mode": {
    "name": "ipython",
    "version": 3
   },
   "file_extension": ".py",
   "mimetype": "text/x-python",
   "name": "python",
   "nbconvert_exporter": "python",
   "pygments_lexer": "ipython3",
   "version": "3.6.9"
  }
 },
 "nbformat": 4,
 "nbformat_minor": 5
}
