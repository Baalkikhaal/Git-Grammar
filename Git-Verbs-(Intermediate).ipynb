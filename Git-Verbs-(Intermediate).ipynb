{
 "cells": [
  {
   "cell_type": "markdown",
   "id": "2281af28-44c6-44d8-9ba0-e4d43a2943a0",
   "metadata": {},
   "source": [
    "# Git Verbs (Intermediate)\n",
    "\n",
    "In this notebook, we will look at some of the less commonly used git verbs. As usual, the Git <span style=\"color: DodgerBlue\">names</span>\n",
    " are colored Dodge Blue and <span style=\"color: DarkOrange\">verbs</span> are colored Dark orange. If you want to refresh, the basic Git names check the [Jupyter notebook for basic Git names](Git-Names.ipynb) and for basic Git verbs check the [Jupyter notebook for basic Git verbs](Git-Verbs.ipynb)."
   ]
  },
  {
   "cell_type": "markdown",
   "id": "ace3b16f-7840-4d7c-9ed3-772b6b20e11c",
   "metadata": {},
   "source": [
    "## Stash\n",
    "\n",
    "Stash the changes in a dirty working directory away.\n",
    "\n",
    "#### Interrupted workflow\n",
    "\n",
    "An interrupted workflow is a situation when we are working with an issue and there is an interrupt to fix an issue with high priority and we are not ready to push the working issue upstream as it is unfinished. Stash is a quick fix way to push unstaged changes to a temporary stash (in English stash means to hide in a secret location), so that the working tree is clean and matches the index. Now we can work with some new issue, then commit these changes and later pull back our stash to continue working with the earlier changes.\n",
    "\n",
    "The traditional way to handle this interrupted workflow is\n",
    "\n",
    "```bash\n",
    "(main) $ git branch my_wip               (1)\n",
    "(main) $ git checkout my_wip\n",
    "(my_wip) $ git add .\n",
    "(my_wip) $ git commit -m 'WIP'\n",
    "(my_wip) $ git checkout main             (2)\n",
    "# work on emergency fix\n",
    "(main) $ git add .\n",
    "(main) $ git commit -m 'Fix in a hurry'\n",
    "(main) $ git checkout my_wip             (3)\n",
    "(my_wip) $ git reset --soft HEAD^        \n",
    "(main) $ git checkout main               \n",
    "(main) $ git branch --delete my_wip\n",
    "# continue working on WIP                (4)\n",
    "(main) $ git add .\n",
    "(main) $ git commit -m 'finished WIP'\n",
    "```\n",
    "\n",
    "1. Commit the work in progress (WIP) to a temporary branch `my_wip`.\n",
    "2. Work on the emergency fix on `main` branch.\n",
    "3. Uncommit the WIP by resetting the HEAD to the penultimate commit using HEAD^. Additionally, let the changes be indexed by using `--soft` option. This options ensures there is no to again add the WIP changes as it also indexed.\n",
    "4. Commit the WIP to the `main` branch.\n",
    "\n",
    "The stash way replaces the step (1) with `git stash push` and step (3) with `git stash pop`\n",
    "\n",
    "```bash\n",
    "# stash the WIP\n",
    "(main) $ git stash push\n",
    "# work on the emergency fix\n",
    "(main) $ git commit -a -m 'Fix in a hurry'\n",
    "(main) $ git stash pop\n",
    "# continue on WIP\n",
    "```\n",
    "\n",
    "#### Further reading\n",
    "\n",
    "    git stash --help"
   ]
  },
  {
   "cell_type": "markdown",
   "id": "ebf6103f-ed46-4b0f-83c6-b39c624c9cc4",
   "metadata": {},
   "source": [
    "## Diff\n",
    "\n",
    "Show changes between commits, commit and working tree, etc.\n",
    "\n",
    "This verb is used to magnify the changes made in or about to be made to the Git repository.\n",
    "\n",
    "#### Further reading\n",
    "\n",
    "    git diff --help"
   ]
  }
 ],
 "metadata": {
  "kernelspec": {
   "display_name": "Python 3",
   "language": "python",
   "name": "python3"
  },
  "language_info": {
   "codemirror_mode": {
    "name": "ipython",
    "version": 3
   },
   "file_extension": ".py",
   "mimetype": "text/x-python",
   "name": "python",
   "nbconvert_exporter": "python",
   "pygments_lexer": "ipython3",
   "version": "3.6.9"
  }
 },
 "nbformat": 4,
 "nbformat_minor": 5
}
