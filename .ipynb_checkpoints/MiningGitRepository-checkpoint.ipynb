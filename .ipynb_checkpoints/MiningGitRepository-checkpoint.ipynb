{
 "cells": [
  {
   "cell_type": "markdown",
   "metadata": {},
   "source": [
    "# Git Basics using Jupyter Notebook\n",
    "\n",
    "---\n",
    "\n",
    "## Dynamic Computing\n",
    "\n",
    "Due to the dynamic computing nature of Jupter notebook it is easy to have an analysis up-to-date with dynamic, time changing data\n",
    "\n",
    "Case-in-point: Linux Git repository\n",
    "\n",
    "The linux Project is a multi developer, multi user, multi-national, multi documenter open source project with a development history of more than 20 years. The originator of Linux, Linus Torvalds, also developed Git to version control such a complex project as linux.\n",
    "\n",
    "Let us try to learn the basics of Git using the Linux Git repository itself as a case study :)\n",
    "\n",
    "The [Linux Git repository](https://github.com/torvalds/linux) is hosted on the GitHub server\n",
    "\n",
    "This repository hosts the Linux kernel source tree\n",
    "\n",
    "We will mine the git related data of this repository in this notebook using the commonly used Git commands\n",
    "\n",
    "## Executing terminal commands in jupyter notebook\n",
    "\n",
    "[Reference](https://support.anaconda.com/hc/en-us/articles/360023858254-Executing-Terminal-Commands-in-Jupyter-Notebooks)\n",
    "\n",
    "Using `!`(spelled `BANG!`), one can execute linux terminal commands within the notebook. This is a useful feature if we want to get system related information or use other system tools to do computing.\n",
    "\n",
    "In this notebook, we will use the following system tools to perform data mining on the linux Gitted repository\n",
    "\n",
    "- wc - print newline, word, and byte counts for each file\n",
    "- tail - output the last part of files\n",
    "- head - output the first part of files"
   ]
  },
  {
   "cell_type": "code",
   "execution_count": 18,
   "metadata": {},
   "outputs": [
    {
     "name": "stdout",
     "output_type": "stream",
     "text": [
      "HEAD(1)                          User Commands                         HEAD(1)\r\n",
      "\r\n",
      "NAME\r\n",
      "       head - output the first part of files\r\n",
      "\r\n",
      "SYNOPSIS\r\n",
      "       head [OPTION]... [FILE]...\r\n",
      "\r\n",
      "DESCRIPTION\r\n",
      "       Print  the  first  10 lines of each FILE to standard output.  With more\r\n",
      "       than one FILE, precede each with a header giving the file name.\r\n",
      "\r\n",
      "       With no FILE, or when FILE is -, read standard input.\r\n",
      "\r\n",
      "       Mandatory arguments to long options are  mandatory  for  short  options\r\n",
      "       too.\r\n",
      "\r\n",
      "       -c, --bytes=[-]NUM\r\n",
      "              print  the  first  NUM bytes of each file; with the leading '-',\r\n",
      "              print all but the last NUM bytes of each file\r\n"
     ]
    }
   ],
   "source": [
    "!man head | head -20"
   ]
  },
  {
   "cell_type": "code",
   "execution_count": 19,
   "metadata": {},
   "outputs": [
    {
     "name": "stdout",
     "output_type": "stream",
     "text": [
      "Reinitialized existing Git repository in /home/fubar/Documents/GITprojects/MyGitProjects/GitBasics/.git/\r\n"
     ]
    }
   ],
   "source": [
    "!git init"
   ]
  },
  {
   "cell_type": "code",
   "execution_count": 14,
   "metadata": {},
   "outputs": [
    {
     "name": "stdout",
     "output_type": "stream",
     "text": [
      "On branch master\r\n",
      "\r\n",
      "No commits yet\r\n",
      "\r\n",
      "Untracked files:\r\n",
      "  (use \"git add <file>...\" to include in what will be committed)\r\n",
      "\r\n",
      "\t\u001b[31m.ipynb_checkpoints/\u001b[m\r\n",
      "\t\u001b[31mMiningGitRepository.ipynb\u001b[m\r\n",
      "\t\u001b[31menv-git/\u001b[m\r\n",
      "\r\n",
      "nothing added to commit but untracked files present (use \"git add\" to track)\r\n"
     ]
    }
   ],
   "source": [
    "!git status"
   ]
  },
  {
   "cell_type": "code",
   "execution_count": 20,
   "metadata": {},
   "outputs": [
    {
     "name": "stdout",
     "output_type": "stream",
     "text": [
      "Cloning into 'linux'...\n",
      "remote: Enumerating objects: 6996587, done.\u001b[K\n",
      "remote: Total 6996587 (delta 0), reused 0 (delta 0), pack-reused 6996587\u001b[K\n",
      "Receiving objects: 100% (6996587/6996587), 2.55 GiB | 4.73 MiB/s, done.\n",
      "Resolving deltas: 100% (5794196/5794196), done.\n",
      "Checking out files: 100% (65695/65695), done.\n"
     ]
    }
   ],
   "source": [
    "!git clone https://github.com/torvalds/linux.git"
   ]
  },
  {
   "cell_type": "code",
   "execution_count": 22,
   "metadata": {},
   "outputs": [],
   "source": [
    "!cd linux/"
   ]
  },
  {
   "cell_type": "code",
   "execution_count": 28,
   "metadata": {},
   "outputs": [
    {
     "name": "stdout",
     "output_type": "stream",
     "text": [
      "On branch master\r\n",
      "\r\n",
      "No commits yet\r\n",
      "\r\n",
      "Untracked files:\r\n",
      "  (use \"git add <file>...\" to include in what will be committed)\r\n",
      "\r\n",
      "\t\u001b[31m.gitignore\u001b[m\r\n",
      "\t\u001b[31m.ipynb_checkpoints/\u001b[m\r\n",
      "\t\u001b[31mMiningGitRepository.ipynb\u001b[m\r\n",
      "\t\u001b[31menv-git/\u001b[m\r\n",
      "\r\n",
      "nothing added to commit but untracked files present (use \"git add\" to track)\r\n"
     ]
    }
   ],
   "source": [
    "!git status"
   ]
  },
  {
   "cell_type": "code",
   "execution_count": 29,
   "metadata": {},
   "outputs": [
    {
     "name": "stdout",
     "output_type": "stream",
     "text": [
      "/home/fubar/Documents/GITprojects/MyGitProjects/GitBasics\r\n"
     ]
    }
   ],
   "source": [
    "!pwd"
   ]
  },
  {
   "cell_type": "code",
   "execution_count": 30,
   "metadata": {},
   "outputs": [
    {
     "name": "stdout",
     "output_type": "stream",
     "text": [
      "On branch master\r\n",
      "\r\n",
      "No commits yet\r\n",
      "\r\n",
      "nothing to commit (create/copy files and use \"git add\" to track)\r\n"
     ]
    }
   ],
   "source": [
    "!git status linux"
   ]
  },
  {
   "cell_type": "code",
   "execution_count": 31,
   "metadata": {},
   "outputs": [
    {
     "name": "stdout",
     "output_type": "stream",
     "text": [
      "GIT(1)                            Git Manual                            GIT(1)\n",
      "\n",
      "NAME\n",
      "       git - the stupid content tracker\n",
      "\n",
      "SYNOPSIS\n",
      "       git [--version] [--help] [-C <path>] [-c <name>=<value>]\n",
      "           [--exec-path[=<path>]] [--html-path] [--man-path] [--info-path]\n",
      "           [-p|--paginate|--no-pager] [--no-replace-objects] [--bare]\n",
      "           [--git-dir=<path>] [--work-tree=<path>] [--namespace=<name>]\n",
      "           [--super-prefix=<path>]\n",
      "           <command> [<args>]\n",
      "\n",
      "DESCRIPTION\n",
      "       Git is a fast, scalable, distributed revision control system with an\n",
      "       unusually rich command set that provides both high-level operations and\n",
      "       full access to internals.\n",
      "\n",
      "       See gittutorial(7) to get started, then see giteveryday(7) for a useful\n",
      "       minimum set of commands. The Git User’s Manual[1] has a more in-depth\n",
      "col: write error\n",
      "man: col: Segmentation fault (core dumped)\n",
      "man: command exited with status 127: col -b -p -x | sed -e '/^[[:space:]]*$/{ N; /^[[:space:]]*\\n[[:space:]]*$/D; }'\n"
     ]
    }
   ],
   "source": [
    "!man git | head -20"
   ]
  },
  {
   "cell_type": "code",
   "execution_count": 33,
   "metadata": {},
   "outputs": [
    {
     "name": "stdout",
     "output_type": "stream",
     "text": [
      "On branch master\r\n",
      "Your branch is up to date with 'origin/master'.\r\n",
      "\r\n",
      "nothing to commit, working tree clean\r\n"
     ]
    }
   ],
   "source": [
    "!git -C linux status"
   ]
  },
  {
   "cell_type": "code",
   "execution_count": 34,
   "metadata": {},
   "outputs": [
    {
     "name": "stdout",
     "output_type": "stream",
     "text": [
      "872387\r\n"
     ]
    }
   ],
   "source": [
    "!git -C linux log --oneline | wc -l"
   ]
  },
  {
   "cell_type": "markdown",
   "metadata": {},
   "source": [
    "# Latest 10 versions of linux"
   ]
  },
  {
   "cell_type": "code",
   "execution_count": 36,
   "metadata": {},
   "outputs": [
    {
     "name": "stdout",
     "output_type": "stream",
     "text": [
      "v5.3-rc4\r\n",
      "v5.3-rc5\r\n",
      "v5.3-rc6\r\n",
      "v5.3-rc7\r\n",
      "v5.3-rc8\r\n",
      "v5.4-rc1\r\n",
      "v5.4-rc2\r\n",
      "v5.4-rc3\r\n",
      "v5.4-rc4\r\n",
      "v5.4-rc5\r\n"
     ]
    }
   ],
   "source": [
    "!git -C linux tag | tail -10"
   ]
  },
  {
   "cell_type": "markdown",
   "metadata": {},
   "source": [
    "# 2.3 Viewing the commit history\n",
    "\n",
    "Our project development progresses as a series of snapshots.\n",
    "These snapshots are linked to each other by the process of commiting.\n",
    "\n",
    "Let us check the commit history of the linux repository.\n",
    "`git log` is the most basic command. By default, this command lists the commits in reverse chronological order.\n",
    "\n",
    "The linux project is a relatively mature project with a timeline of more than 20 years. The maturity of the project is evident from the total number of commits running more than `850k`. This is extracted by using `git log --oneline` and redirecting output to `wc -l` which counts the lines.\n",
    "\n",
    "Let us check some of the commit messages. Due to the size of the linux repository, let us limit to the latest 3 commits. For this use `head -3` command as a pipe to the output of `git log`. An alternative command without pipelining is using option `git log -3`. The latter has the advantage of retaining the git color coding scheme.\n",
    "\n",
    "For the first 3 commits, use `tail -3` command.\n",
    "\n",
    "\n",
    "The option `-C linux` is to ensure the git processes the linux directory.\n",
    "\n",
    "### First and latest 3 commits\n",
    "\n",
    "Most of the commits are patches qualified by the `[PATCH]` header. It seems that there is a convention followed for commit messages for the linux repository."
   ]
  },
  {
   "cell_type": "code",
   "execution_count": 12,
   "metadata": {},
   "outputs": [
    {
     "name": "stdout",
     "output_type": "stream",
     "text": [
      "e472c64aa4fa Merge tag 'dmaengine-fix-5.4-rc6' of git://git.infradead.org/users/vkoul/slave-dma\r\n",
      "320000e72ec0 Merge tag 'iommu-fixes-v5.4-rc5' of git://git.kernel.org/pub/scm/linux/kernel/git/joro/iommu\r\n",
      "b66b449872d3 Merge tag 'gfs2-v5.4-rc5.fixes' of git://git.kernel.org/pub/scm/linux/kernel/git/gfs2/linux-gfs2\r\n"
     ]
    }
   ],
   "source": [
    "!git -C linux log --oneline | head -3"
   ]
  },
  {
   "cell_type": "code",
   "execution_count": 13,
   "metadata": {},
   "outputs": [
    {
     "name": "stdout",
     "output_type": "stream",
     "text": [
      "\u001b[33me472c64aa4fa\u001b[m\u001b[33m (\u001b[m\u001b[1;36mHEAD -> \u001b[m\u001b[1;32mmaster\u001b[m\u001b[33m)\u001b[m Merge tag 'dmaengine-fix-5.4-rc6' of git://git.infradead.org/users/vkoul/slave-dma\r\n",
      "\u001b[33m320000e72ec0\u001b[m Merge tag 'iommu-fixes-v5.4-rc5' of git://git.kernel.org/pub/scm/linux/kernel/git/joro/iommu\r\n",
      "\u001b[33mb66b449872d3\u001b[m Merge tag 'gfs2-v5.4-rc5.fixes' of git://git.kernel.org/pub/scm/linux/kernel/git/gfs2/linux-gfs2\r\n"
     ]
    }
   ],
   "source": [
    "!git -C linux log --oneline -3"
   ]
  },
  {
   "cell_type": "code",
   "execution_count": 14,
   "metadata": {},
   "outputs": [
    {
     "name": "stdout",
     "output_type": "stream",
     "text": [
      "baaa2c512dc1 [PATCH] Avoid deadlock in sync_page_io by using GFP_NOIO\r\n",
      "8d38eadb7a97 [PATCH] mmtimer build fix\r\n",
      "1da177e4c3f4 Linux-2.6.12-rc2\r\n"
     ]
    }
   ],
   "source": [
    "!git -C linux log --oneline | tail -3"
   ]
  },
  {
   "cell_type": "markdown",
   "metadata": {},
   "source": [
    "### Power of `git log`\n",
    "\n",
    "Some of the popular options of `git log` are:\n",
    "\n",
    "- `-p` or `--patch` which shows the difference introduced in each commit.\n",
    "- `-<number>` or `-n <number>` or `--max-count=<number>`: limit the number of commits to <number>\n",
    "- `--stat` give the diff stats for each commit"
   ]
  },
  {
   "cell_type": "code",
   "execution_count": 10,
   "metadata": {},
   "outputs": [
    {
     "name": "stdout",
     "output_type": "stream",
     "text": [
      "\u001b[33mcommit e472c64aa4fa6150c6076fd36d101d667d71c30a\u001b[m\u001b[33m (\u001b[m\u001b[1;36mHEAD -> \u001b[m\u001b[1;32mmaster\u001b[m\u001b[33m)\u001b[m\r\n",
      "Merge: 320000e72ec0 bacdcb6675e1\r\n",
      "Author: Linus Torvalds <torvalds@linux-foundation.org>\r\n",
      "Date:   Thu Oct 31 07:34:09 2019 +0000\r\n",
      "\r\n",
      "    Merge tag 'dmaengine-fix-5.4-rc6' of git://git.infradead.org/users/vkoul/slave-dma\r\n",
      "    \r\n",
      "    Pull dmaengine fixes from Vinod Koul:\r\n",
      "     \"A few fixes to the dmaengine drivers:\r\n",
      "    \r\n",
      "       - fix in sprd driver for link list and potential memory leak\r\n",
      "    \r\n",
      "       - tegra transfer failure fix\r\n",
      "    \r\n",
      "       - imx size check fix for script_number\r\n",
      "    \r\n",
      "       - xilinx fix for 64bit AXIDMA and control reg update\r\n",
      "    \r\n",
      "       - qcom bam dma resource leak fix\r\n",
      "    \r\n",
      "       - cppi slave transfer fix when idle\"\r\n",
      "    \r\n",
      "    * tag 'dmaengine-fix-5.4-rc6' of git://git.infradead.org/users/vkoul/slave-dma:\r\n",
      "      dmaengine: cppi41: Fix cppi41_dma_prep_slave_sg() when idle\r\n",
      "      dmaengine: qcom: bam_dma: Fix resource leak\r\n",
      "      dmaengine: sprd: Fix the possible memory leak issue\r\n",
      "      dmaengine: xilinx_dma: Fix control reg update in vdma_channel_set_config\r\n",
      "      dmaengine: xilinx_dma: Fix 64-bit simple AXIDMA transfer\r\n",
      "      dmaengine: imx-sdma: fix size check for sdma script_number\r\n",
      "      dmaengine: tegra210-adma: fix transfer failure\r\n",
      "      dmaengine: sprd: Fix the link-list pointer register configuration issue\r\n",
      "\r\n",
      "\u001b[33mcommit 320000e72ec0613e164ce9608d865396fb2da278\u001b[m\r\n",
      "Merge: b66b449872d3 160c63f909ff\r\n",
      "Author: Linus Torvalds <torvalds@linux-foundation.org>\r\n",
      "Date:   Wed Oct 30 14:17:18 2019 +0100\r\n",
      "\r\n",
      "    Merge tag 'iommu-fixes-v5.4-rc5' of git://git.kernel.org/pub/scm/linux/kernel/git/joro/iommu\r\n",
      "    \r\n",
      "    Pull iommu fixes from Joerg Roedel:\r\n",
      "    \r\n",
      "     - Follow-on fix for Renesas IPMMU to get rid of a redundant error\r\n",
      "       message.\r\n",
      "    \r\n",
      "     - Quirk for AMD IOMMU to make it work on another Acer Laptop model with\r\n",
      "       a broken IVRS ACPI table.\r\n",
      "    \r\n",
      "     - Fix for a panic at kdump in the Intel IOMMU driver.\r\n",
      "    \r\n",
      "    * tag 'iommu-fixes-v5.4-rc5' of git://git.kernel.org/pub/scm/linux/kernel/git/joro/iommu:\r\n",
      "      iommu/vt-d: Fix panic after kexec -p for kdump\r\n",
      "      iommu/amd: Apply the same IVRS IOAPIC workaround to Acer Aspire A315-41\r\n",
      "      iommu/ipmmu-vmsa: Remove dev_err() on platform_get_irq() failure\r\n"
     ]
    }
   ],
   "source": [
    "!git -C linux log -p -2"
   ]
  },
  {
   "cell_type": "code",
   "execution_count": 11,
   "metadata": {},
   "outputs": [
    {
     "name": "stdout",
     "output_type": "stream",
     "text": [
      "\u001b[33mcommit e472c64aa4fa6150c6076fd36d101d667d71c30a\u001b[m\u001b[33m (\u001b[m\u001b[1;36mHEAD -> \u001b[m\u001b[1;32mmaster\u001b[m\u001b[33m)\u001b[m\r\n",
      "Merge: 320000e72ec0 bacdcb6675e1\r\n",
      "Author: Linus Torvalds <torvalds@linux-foundation.org>\r\n",
      "Date:   Thu Oct 31 07:34:09 2019 +0000\r\n",
      "\r\n",
      "    Merge tag 'dmaengine-fix-5.4-rc6' of git://git.infradead.org/users/vkoul/slave-dma\r\n",
      "    \r\n",
      "    Pull dmaengine fixes from Vinod Koul:\r\n",
      "     \"A few fixes to the dmaengine drivers:\r\n",
      "    \r\n",
      "       - fix in sprd driver for link list and potential memory leak\r\n",
      "    \r\n",
      "       - tegra transfer failure fix\r\n",
      "    \r\n",
      "       - imx size check fix for script_number\r\n",
      "    \r\n",
      "       - xilinx fix for 64bit AXIDMA and control reg update\r\n",
      "    \r\n",
      "       - qcom bam dma resource leak fix\r\n",
      "    \r\n",
      "       - cppi slave transfer fix when idle\"\r\n",
      "    \r\n",
      "    * tag 'dmaengine-fix-5.4-rc6' of git://git.infradead.org/users/vkoul/slave-dma:\r\n",
      "      dmaengine: cppi41: Fix cppi41_dma_prep_slave_sg() when idle\r\n",
      "      dmaengine: qcom: bam_dma: Fix resource leak\r\n",
      "      dmaengine: sprd: Fix the possible memory leak issue\r\n",
      "      dmaengine: xilinx_dma: Fix control reg update in vdma_channel_set_config\r\n",
      "      dmaengine: xilinx_dma: Fix 64-bit simple AXIDMA transfer\r\n",
      "      dmaengine: imx-sdma: fix size check for sdma script_number\r\n",
      "      dmaengine: tegra210-adma: fix transfer failure\r\n",
      "      dmaengine: sprd: Fix the link-list pointer register configuration issue\r\n",
      "\r\n",
      "\u001b[33mcommit 320000e72ec0613e164ce9608d865396fb2da278\u001b[m\r\n",
      "Merge: b66b449872d3 160c63f909ff\r\n",
      "Author: Linus Torvalds <torvalds@linux-foundation.org>\r\n",
      "Date:   Wed Oct 30 14:17:18 2019 +0100\r\n",
      "\r\n",
      "    Merge tag 'iommu-fixes-v5.4-rc5' of git://git.kernel.org/pub/scm/linux/kernel/git/joro/iommu\r\n",
      "    \r\n",
      "    Pull iommu fixes from Joerg Roedel:\r\n",
      "    \r\n",
      "     - Follow-on fix for Renesas IPMMU to get rid of a redundant error\r\n",
      "       message.\r\n",
      "    \r\n",
      "     - Quirk for AMD IOMMU to make it work on another Acer Laptop model with\r\n",
      "       a broken IVRS ACPI table.\r\n",
      "    \r\n",
      "     - Fix for a panic at kdump in the Intel IOMMU driver.\r\n",
      "    \r\n",
      "    * tag 'iommu-fixes-v5.4-rc5' of git://git.kernel.org/pub/scm/linux/kernel/git/joro/iommu:\r\n",
      "      iommu/vt-d: Fix panic after kexec -p for kdump\r\n",
      "      iommu/amd: Apply the same IVRS IOAPIC workaround to Acer Aspire A315-41\r\n",
      "      iommu/ipmmu-vmsa: Remove dev_err() on platform_get_irq() failure\r\n"
     ]
    }
   ],
   "source": [
    "!git -C linux log --stat -2"
   ]
  },
  {
   "cell_type": "markdown",
   "metadata": {},
   "source": [
    "### Limiting log output\n",
    "\n",
    "`--since=2.weeks` or `--since='2019-11-01'` or `since='1 year 2 day 3 minutes ago'`\n",
    "\n",
    "`--author=<author>`\n",
    "\n",
    "Let us check how many commits Linus Torvalds has made to the repository.\n",
    "\n",
    "Let us check how many commits are madee since 01 October 2019 to the repository\n",
    "\n",
    "Let us check how many commits are made by Linus Torvals since 01 November 2019 to the repository\n"
   ]
  },
  {
   "cell_type": "code",
   "execution_count": 15,
   "metadata": {},
   "outputs": [
    {
     "name": "stdout",
     "output_type": "stream",
     "text": [
      "28417\r\n"
     ]
    }
   ],
   "source": [
    "!git -C linux log --oneline --author='Linus Torvalds' | wc -l "
   ]
  },
  {
   "cell_type": "code",
   "execution_count": 16,
   "metadata": {},
   "outputs": [
    {
     "name": "stdout",
     "output_type": "stream",
     "text": [
      "31846\r\n"
     ]
    }
   ],
   "source": [
    "!git -C linux log --oneline --author=Linus | wc -l"
   ]
  },
  {
   "cell_type": "code",
   "execution_count": 17,
   "metadata": {},
   "outputs": [
    {
     "name": "stdout",
     "output_type": "stream",
     "text": [
      "28417\r\n"
     ]
    }
   ],
   "source": [
    "!git -C linux log --oneline --author=Torvalds | wc -l "
   ]
  },
  {
   "cell_type": "code",
   "execution_count": 20,
   "metadata": {},
   "outputs": [
    {
     "name": "stdout",
     "output_type": "stream",
     "text": [
      "1277\r\n"
     ]
    }
   ],
   "source": [
    "!git -C linux log --oneline --since=2019-10-01 | wc -l"
   ]
  },
  {
   "cell_type": "code",
   "execution_count": 21,
   "metadata": {},
   "outputs": [
    {
     "name": "stdout",
     "output_type": "stream",
     "text": [
      "142\r\n"
     ]
    }
   ],
   "source": [
    "!git -C linux log --oneline --since=2019-10-01 --author='Linus Torvalds' | wc -l"
   ]
  },
  {
   "cell_type": "code",
   "execution_count": 22,
   "metadata": {},
   "outputs": [
    {
     "name": "stdout",
     "output_type": "stream",
     "text": [
      "991\r\n"
     ]
    }
   ],
   "source": [
    "!git -C linux log --oneline --author='Vinod Koul' | wc -l"
   ]
  },
  {
   "cell_type": "markdown",
   "metadata": {},
   "source": [
    "### Git's \"pickaxe\" -S option\n",
    "\n",
    "????\n",
    "\n",
    "git log -S function_name"
   ]
  },
  {
   "cell_type": "code",
   "execution_count": null,
   "metadata": {},
   "outputs": [],
   "source": [
    "!git -C linux log --oneline -S 'alsa'"
   ]
  },
  {
   "cell_type": "markdown",
   "metadata": {},
   "source": [
    "### Check the remote source to the current clone of the repository"
   ]
  },
  {
   "cell_type": "code",
   "execution_count": 2,
   "metadata": {},
   "outputs": [
    {
     "name": "stdout",
     "output_type": "stream",
     "text": [
      "origin\thttps://github.com/torvalds/linux.git (fetch)\r\n",
      "origin\thttps://github.com/torvalds/linux.git (push)\r\n"
     ]
    }
   ],
   "source": [
    "!git -C linux remote --verbose"
   ]
  },
  {
   "cell_type": "markdown",
   "metadata": {},
   "source": [
    "### Fetch the latest commits to the repository"
   ]
  },
  {
   "cell_type": "code",
   "execution_count": 4,
   "metadata": {},
   "outputs": [
    {
     "name": "stdout",
     "output_type": "stream",
     "text": [
      "remote: Enumerating objects: 1812, done.\u001b[K\n",
      "remote: Counting objects: 100% (1812/1812), done.\u001b[K\n",
      "remote: Total 2292 (delta 1812), reused 1812 (delta 1812), pack-reused 480\u001b[K\n",
      "Receiving objects: 100% (2292/2292), 699.73 KiB | 1.36 MiB/s, done.\n",
      "Resolving deltas: 100% (1922/1922), completed with 683 local objects.\n",
      "From https://github.com/torvalds/linux\n",
      "   e472c64aa4fa..56cfd2507d3e  master     -> origin/master\n"
     ]
    }
   ],
   "source": [
    "!git -C linux fetch origin"
   ]
  },
  {
   "cell_type": "code",
   "execution_count": null,
   "metadata": {},
   "outputs": [],
   "source": []
  }
 ],
 "metadata": {
  "kernelspec": {
   "display_name": "Python 3",
   "language": "python",
   "name": "python3"
  },
  "language_info": {
   "codemirror_mode": {
    "name": "ipython",
    "version": 3
   },
   "file_extension": ".py",
   "mimetype": "text/x-python",
   "name": "python",
   "nbconvert_exporter": "python",
   "pygments_lexer": "ipython3",
   "version": "3.6.8"
  }
 },
 "nbformat": 4,
 "nbformat_minor": 2
}
